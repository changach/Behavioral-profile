{
 "cells": [
  {
   "cell_type": "code",
   "execution_count": 69,
   "id": "6f995d08",
   "metadata": {},
   "outputs": [],
   "source": [
    "import requests\n",
    "from bs4 import BeautifulSoup\n",
    "import numpy as np\n",
    "import pandas as pd\n",
    "import time"
   ]
  },
  {
   "cell_type": "code",
   "execution_count": 70,
   "id": "028a2ac3",
   "metadata": {},
   "outputs": [],
   "source": [
    "# url definition\n",
    "url =\"http://erepository.uonbi.ac.ke/discover\""
   ]
  },
  {
   "cell_type": "code",
   "execution_count": 71,
   "id": "088be72d",
   "metadata": {},
   "outputs": [
    {
     "data": {
      "text/plain": [
       "10"
      ]
     },
     "execution_count": 71,
     "metadata": {},
     "output_type": "execute_result"
    }
   ],
   "source": [
    "# Request\n",
    "r1 = requests.get(url)\n",
    "r1.status_code\n",
    "\n",
    "# We'll save in radicalization the page content\n",
    "radicalization = r1.content\n",
    "\n",
    "# Soup creation\n",
    "soup1 = BeautifulSoup(radicalization, 'html5lib')\n",
    "\n",
    "# News identification\n",
    "radicalization_news = soup1.find_all('div', class_='col-sm-9 artifact-description')\n",
    "len(radicalization_news)"
   ]
  },
  {
   "cell_type": "code",
   "execution_count": 72,
   "id": "704f4911",
   "metadata": {},
   "outputs": [
    {
     "data": {
      "text/plain": [
       "<div class=\"col-sm-9 artifact-description\">\n",
       "<a href=\"/handle/11295/76167\">\n",
       "<h4>Effects of Chinsaga (gynandropsis gynandra) on haematological profile and markers of iron metabolism in Kenyan breastfeeding women<span class=\"Z3988\" title=\"ctx_ver=Z39.88-2004&amp;rft_val_fmt=info%3Aofi%2Ffmt%3Akev%3Amtx%3Adc&amp;rft_id=http%3A%2F%2Fhdl.handle.net%2F11295%2F76167&amp;rfr_id=info%3Asid%2Fdspace.org%3Arepository&amp;\"> </span>\n",
       "</h4>\n",
       "</a>\n",
       "<div class=\"artifact-info\">\n",
       "<span class=\"author h4\"><small><span class=\"ds-dc_contributor_author-authority\">Bosire, Kefa O</span></small></span> <span class=\"publisher-date h4\"><small>(<span class=\"publisher\">University of Nairobi</span>, <span class=\"date\">2014</span>)</small></span>\n",
       "<div class=\"abstract\">Introduction: Chinsaga (Gynandropsis gynandra (L.)) is a leafy vegetable\n",
       "indigenous to Africa, and is an important component of the traditional diet\n",
       "of the people of western Kenya such as the Abagusii, who refer to it ...</div>\n",
       "</div>\n",
       "</div>"
      ]
     },
     "execution_count": 72,
     "metadata": {},
     "output_type": "execute_result"
    }
   ],
   "source": [
    "coverpage_news[0]"
   ]
  },
  {
   "cell_type": "code",
   "execution_count": 73,
   "id": "2fe08c88",
   "metadata": {},
   "outputs": [],
   "source": [
    "number_of_articles = 5"
   ]
  },
  {
   "cell_type": "code",
   "execution_count": 74,
   "id": "64a8ba69",
   "metadata": {},
   "outputs": [],
   "source": [
    "# Empty lists for content, links and titles\n",
    "news_contents = []\n",
    "list_links = []\n",
    "list_titles = []\n",
    "\n",
    "for n in np.arange(0, number_of_articles):\n",
    "        \n",
    "    # Getting the link of the article\n",
    "    link = url + radicalization_news[n].find('a')['href']\n",
    "    list_links.append(link)\n",
    "    \n",
    "    # Getting the title\n",
    "    title = radicalization_news[n].find('h4').get_text()\n",
    "    list_titles.append(title)\n",
    "    \n",
    "    # Reading the content (it is divided in paragraphs)\n",
    "    article = requests.get(link)\n",
    "    article_content = article.content\n",
    "    soup_article = BeautifulSoup(article_content, 'html5lib')\n",
    "    body = soup_article.find_all('div', class_='abstract')\n",
    "    \n",
    "    news_contents.append(body)\n",
    "   \n",
    "    \n",
    "    \n",
    "    \n",
    "    "
   ]
  },
  {
   "cell_type": "code",
   "execution_count": 76,
   "id": "6677f32b",
   "metadata": {},
   "outputs": [],
   "source": [
    "# df_show_info\n",
    "df_show_info = pd.DataFrame(\n",
    "    {'Article Title': list_titles,\n",
    "     'Article Link': list_links})"
   ]
  },
  {
   "cell_type": "code",
   "execution_count": 77,
   "id": "0159d8a4",
   "metadata": {},
   "outputs": [
    {
     "data": {
      "text/html": [
       "<div>\n",
       "<style scoped>\n",
       "    .dataframe tbody tr th:only-of-type {\n",
       "        vertical-align: middle;\n",
       "    }\n",
       "\n",
       "    .dataframe tbody tr th {\n",
       "        vertical-align: top;\n",
       "    }\n",
       "\n",
       "    .dataframe thead th {\n",
       "        text-align: right;\n",
       "    }\n",
       "</style>\n",
       "<table border=\"1\" class=\"dataframe\">\n",
       "  <thead>\n",
       "    <tr style=\"text-align: right;\">\n",
       "      <th></th>\n",
       "      <th>Article Title</th>\n",
       "      <th>Article Link</th>\n",
       "    </tr>\n",
       "  </thead>\n",
       "  <tbody>\n",
       "    <tr>\n",
       "      <th>0</th>\n",
       "      <td>Effects of Chinsaga (gynandropsis gynandra) on...</td>\n",
       "      <td>http://erepository.uonbi.ac.ke/discover/handle...</td>\n",
       "    </tr>\n",
       "    <tr>\n",
       "      <th>1</th>\n",
       "      <td>Evaluation Of Response To Imatinib Mesylate Th...</td>\n",
       "      <td>http://erepository.uonbi.ac.ke/discover/handle...</td>\n",
       "    </tr>\n",
       "    <tr>\n",
       "      <th>2</th>\n",
       "      <td>The Pattern Of Glaucoma In Patients Attending ...</td>\n",
       "      <td>http://erepository.uonbi.ac.ke/discover/handle...</td>\n",
       "    </tr>\n",
       "    <tr>\n",
       "      <th>3</th>\n",
       "      <td>The Prevalence Of Co-Morbid Autism Spectrum Di...</td>\n",
       "      <td>http://erepository.uonbi.ac.ke/discover/handle...</td>\n",
       "    </tr>\n",
       "    <tr>\n",
       "      <th>4</th>\n",
       "      <td>Minimal cross-infection risk through Icare reb...</td>\n",
       "      <td>http://erepository.uonbi.ac.ke/discover/handle...</td>\n",
       "    </tr>\n",
       "  </tbody>\n",
       "</table>\n",
       "</div>"
      ],
      "text/plain": [
       "                                       Article Title  \\\n",
       "0  Effects of Chinsaga (gynandropsis gynandra) on...   \n",
       "1  Evaluation Of Response To Imatinib Mesylate Th...   \n",
       "2  The Pattern Of Glaucoma In Patients Attending ...   \n",
       "3  The Prevalence Of Co-Morbid Autism Spectrum Di...   \n",
       "4  Minimal cross-infection risk through Icare reb...   \n",
       "\n",
       "                                        Article Link  \n",
       "0  http://erepository.uonbi.ac.ke/discover/handle...  \n",
       "1  http://erepository.uonbi.ac.ke/discover/handle...  \n",
       "2  http://erepository.uonbi.ac.ke/discover/handle...  \n",
       "3  http://erepository.uonbi.ac.ke/discover/handle...  \n",
       "4  http://erepository.uonbi.ac.ke/discover/handle...  "
      ]
     },
     "execution_count": 77,
     "metadata": {},
     "output_type": "execute_result"
    }
   ],
   "source": [
    "df_show_info"
   ]
  },
  {
   "cell_type": "code",
   "execution_count": null,
   "id": "97e09fc0",
   "metadata": {},
   "outputs": [],
   "source": []
  },
  {
   "cell_type": "code",
   "execution_count": null,
   "id": "e5e18ad5",
   "metadata": {},
   "outputs": [],
   "source": []
  }
 ],
 "metadata": {
  "kernelspec": {
   "display_name": "Python 3",
   "language": "python",
   "name": "python3"
  },
  "language_info": {
   "codemirror_mode": {
    "name": "ipython",
    "version": 3
   },
   "file_extension": ".py",
   "mimetype": "text/x-python",
   "name": "python",
   "nbconvert_exporter": "python",
   "pygments_lexer": "ipython3",
   "version": "3.8.10"
  }
 },
 "nbformat": 4,
 "nbformat_minor": 5
}
