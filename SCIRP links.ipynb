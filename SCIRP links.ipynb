{
 "cells": [
  {
   "cell_type": "code",
   "execution_count": 1,
   "id": "3a3e417d",
   "metadata": {},
   "outputs": [],
   "source": [
    "import requests\n",
    "from bs4 import BeautifulSoup\n",
    "import numpy as np\n",
    "import pandas as pd\n",
    "import time"
   ]
  },
  {
   "cell_type": "code",
   "execution_count": 2,
   "id": "244c9934",
   "metadata": {},
   "outputs": [],
   "source": [
    "# url definition\n",
    "url =\"https://www.scirp.org/journal/articles.aspx?searchcode=radicalization&searchfield=All&page=1&skid=59981825\""
   ]
  },
  {
   "cell_type": "code",
   "execution_count": 19,
   "id": "b6fc7b60",
   "metadata": {},
   "outputs": [
    {
     "name": "stdout",
     "output_type": "stream",
     "text": [
      "200\n"
     ]
    },
    {
     "data": {
      "text/plain": [
       "3"
      ]
     },
     "execution_count": 19,
     "metadata": {},
     "output_type": "execute_result"
    }
   ],
   "source": [
    "# Request\n",
    "r1 = requests.get(url)\n",
    "print(r1.status_code)\n",
    "\n",
    "# We'll save in scirp the cover page content\n",
    "scirp = r1.content\n",
    "\n",
    "# Soup creation\n",
    "soup1 = BeautifulSoup(scirp, 'html5lib')\n",
    "\n",
    "# News identification\n",
    "scirp_news = soup1.find_all('div',class_='list_t')\n",
    "len(scirp_news)"
   ]
  },
  {
   "cell_type": "code",
   "execution_count": 29,
   "id": "6e2c8fa9",
   "metadata": {},
   "outputs": [
    {
     "data": {
      "text/plain": [
       "<div class=\"list_t\">\n",
       "                                    <span style=\"font-weight: bold;\"><a href=\"paperinformation.aspx?paperid=110035\" target=\"_blank\">\n",
       "                                        The Nature, Extent and Impact of Youth <font color=\"red\">Radicalization</font> in Mombasa and Kwale Counties, Kenya</a></span> <span id=\"ContentPlaceHolder1_Rep_Paper_reviewpaper_show_0\" style=\"color:gray;Display:None;\">(Articles)</span>\n",
       "\n",
       "                                </div>"
      ]
     },
     "execution_count": 29,
     "metadata": {},
     "output_type": "execute_result"
    }
   ],
   "source": [
    "scirp_news[0]"
   ]
  },
  {
   "cell_type": "code",
   "execution_count": 9,
   "id": "25571e55",
   "metadata": {},
   "outputs": [],
   "source": [
    "number_of_articles = 2"
   ]
  },
  {
   "cell_type": "code",
   "execution_count": 41,
   "id": "6c3de69d",
   "metadata": {},
   "outputs": [],
   "source": [
    "# Empty lists for content, links and titles\n",
    "list_links = []\n",
    "list_titles = []\n",
    "\n",
    "for n in np.arange(0, number_of_articles):\n",
    "        \n",
    "    # Getting the link of the article\n",
    "    link = url + scirp_news[n].find('a')['href']\n",
    "    list_links.append(link)\n",
    "    \n",
    "    # Getting the title\n",
    "    title = scirp_news[n].find('a').get_text()\n",
    "    list_titles.append(title)\n",
    "        "
   ]
  },
  {
   "cell_type": "code",
   "execution_count": 42,
   "id": "9d08549b",
   "metadata": {},
   "outputs": [],
   "source": [
    "# df_show_info\n",
    "df_show_info = pd.DataFrame(\n",
    "    {'Article Title': list_titles,\n",
    "     'Article Link': list_links})"
   ]
  },
  {
   "cell_type": "code",
   "execution_count": 43,
   "id": "4fce66e5",
   "metadata": {},
   "outputs": [
    {
     "data": {
      "text/html": [
       "<div>\n",
       "<style scoped>\n",
       "    .dataframe tbody tr th:only-of-type {\n",
       "        vertical-align: middle;\n",
       "    }\n",
       "\n",
       "    .dataframe tbody tr th {\n",
       "        vertical-align: top;\n",
       "    }\n",
       "\n",
       "    .dataframe thead th {\n",
       "        text-align: right;\n",
       "    }\n",
       "</style>\n",
       "<table border=\"1\" class=\"dataframe\">\n",
       "  <thead>\n",
       "    <tr style=\"text-align: right;\">\n",
       "      <th></th>\n",
       "      <th>Article Title</th>\n",
       "      <th>Article Link</th>\n",
       "    </tr>\n",
       "  </thead>\n",
       "  <tbody>\n",
       "    <tr>\n",
       "      <th>0</th>\n",
       "      <td>\\n                                        The ...</td>\n",
       "      <td>https://www.scirp.org/journal/articles.aspx?se...</td>\n",
       "    </tr>\n",
       "    <tr>\n",
       "      <th>1</th>\n",
       "      <td>\\n                                        Figh...</td>\n",
       "      <td>https://www.scirp.org/journal/articles.aspx?se...</td>\n",
       "    </tr>\n",
       "    <tr>\n",
       "      <th>2</th>\n",
       "      <td>\\n                                        Fund...</td>\n",
       "      <td>https://www.scirp.org/journal/articles.aspx?se...</td>\n",
       "    </tr>\n",
       "  </tbody>\n",
       "</table>\n",
       "</div>"
      ],
      "text/plain": [
       "                                       Article Title  \\\n",
       "0  \\n                                        The ...   \n",
       "1  \\n                                        Figh...   \n",
       "2  \\n                                        Fund...   \n",
       "\n",
       "                                        Article Link  \n",
       "0  https://www.scirp.org/journal/articles.aspx?se...  \n",
       "1  https://www.scirp.org/journal/articles.aspx?se...  \n",
       "2  https://www.scirp.org/journal/articles.aspx?se...  "
      ]
     },
     "execution_count": 43,
     "metadata": {},
     "output_type": "execute_result"
    }
   ],
   "source": [
    "df_show_info"
   ]
  },
  {
   "cell_type": "code",
   "execution_count": null,
   "id": "899deda8",
   "metadata": {},
   "outputs": [],
   "source": []
  }
 ],
 "metadata": {
  "kernelspec": {
   "display_name": "Python 3",
   "language": "python",
   "name": "python3"
  },
  "language_info": {
   "codemirror_mode": {
    "name": "ipython",
    "version": 3
   },
   "file_extension": ".py",
   "mimetype": "text/x-python",
   "name": "python",
   "nbconvert_exporter": "python",
   "pygments_lexer": "ipython3",
   "version": "3.8.10"
  }
 },
 "nbformat": 4,
 "nbformat_minor": 5
}
