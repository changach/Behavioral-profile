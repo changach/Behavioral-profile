{
 "cells": [
  {
   "cell_type": "code",
   "execution_count": 13,
   "id": "5678d1e2",
   "metadata": {},
   "outputs": [],
   "source": [
    "import requests\n",
    "from bs4 import BeautifulSoup\n",
    "import numpy as np\n",
    "import pandas as pd\n",
    "import time"
   ]
  },
  {
   "cell_type": "code",
   "execution_count": null,
   "id": "690d93a6",
   "metadata": {},
   "outputs": [],
   "source": [
    "# url definition\n",
    "url =\"https://nation.africa/service/search/kenya/290754?pageNum=0&query=radicalization&docType=CMArticle\""
   ]
  },
  {
   "cell_type": "code",
   "execution_count": 14,
   "id": "9f565873",
   "metadata": {},
   "outputs": [
    {
     "name": "stdout",
     "output_type": "stream",
     "text": [
      "200\n"
     ]
    },
    {
     "data": {
      "text/plain": [
       "10"
      ]
     },
     "execution_count": 14,
     "metadata": {},
     "output_type": "execute_result"
    }
   ],
   "source": [
    "# Request\n",
    "r1 = requests.get(url)\n",
    "print(r1.status_code)\n",
    "\n",
    "# We'll save in radicalization the page content\n",
    "radicalization = r1.content\n",
    "\n",
    "# Soup creation\n",
    "soup1 = BeautifulSoup(radicalization, 'html5lib')\n",
    "\n",
    "# News identification\n",
    "radicalization_news = soup1.find_all('a', class_='teaser-image-right article-collection-teaser teaser-image-right_wide1column')\n",
    "len(radicalization_news)"
   ]
  },
  {
   "cell_type": "code",
   "execution_count": 55,
   "id": "50786dd0",
   "metadata": {},
   "outputs": [
    {
     "data": {
      "text/plain": [
       "<a aria-label=\"PS urges Isiolo residents to help fight radicalization\" class=\"teaser-image-right article-collection-teaser teaser-image-right_wide1column\" href=\"/kenya/counties/isiolo/interior-ps-kibicho-urges-isiolo-residents-to-help-fight-radicalization-335748\">\n",
       "<article class=\"nested-cols\">\n",
       "<div class=\"col-1-1 medium-col-3-4\">\n",
       "<h3 class=\"title-small teaser-image-right_title\">\n",
       "PS urges Isiolo residents to help fight <b>radicalization</b>\n",
       "</h3>\n",
       "<p class=\"teaser-image-right_paragraph text-block\">\n",
       "Mr Kibicho says young people from the county continue to be recruited to join terror groups.\n",
       "</p>\n",
       "<aside class=\"article-metadata\">\n",
       "<span class=\"article-topic article-metadata_topic\">Isiolo</span>\n",
       "<span class=\"date\">\n",
       "Dec 09, 2016\n",
       "</span>\n",
       "</aside>\n",
       "</div>\n",
       "<div class=\"col-1-4\">\n",
       "<figure class=\"lazy-img-container img-space_landscape_ratio3x2\">\n",
       "<img alt=\"\" class=\"lazy-img\" data-lazy-img=\"true\" data-src=\"/resource/image/335752/landscape_ratio3x2/120/80/59212ad45be94690c16df1c5aabcef85/zP/kibicho.jpg\" data-srcset=\"\n",
       "/resource/image/335752/landscape_ratio3x2/120/80/59212ad45be94690c16df1c5aabcef85/zP/kibicho.jpg 120w,\n",
       "/resource/image/335752/landscape_ratio3x2/240/160/59212ad45be94690c16df1c5aabcef85/bx/kibicho.jpg 240w,\n",
       "/resource/image/335752/landscape_ratio3x2/480/320/59212ad45be94690c16df1c5aabcef85/Rd/kibicho.jpg 480w\n",
       "\" height=\"100\" loading=\"lazy\" sizes=\"(min-width: 830px) 190px, (min-width: 700px) 22vw, 0vw\" width=\"100\"/>\n",
       "</figure>\n",
       "</div>\n",
       "</article>\n",
       "</a>"
      ]
     },
     "execution_count": 55,
     "metadata": {},
     "output_type": "execute_result"
    }
   ],
   "source": [
    "radicalization_news[3]"
   ]
  },
  {
   "cell_type": "code",
   "execution_count": 56,
   "id": "174e20a6",
   "metadata": {},
   "outputs": [],
   "source": [
    "n=0\n",
    "link = radicalization_news[n]['href']\n",
    "title = radicalization_news[n].get_text()\n",
    "article = requests.get(\"https://nation.africa/\" + link)\n",
    "article_content = article.content\n",
    "soup_article = BeautifulSoup(article_content, 'html5lib')\n"
   ]
  },
  {
   "cell_type": "code",
   "execution_count": 57,
   "id": "b4affc3c",
   "metadata": {},
   "outputs": [],
   "source": [
    "body = soup_article.find_all('p')"
   ]
  },
  {
   "cell_type": "code",
   "execution_count": 58,
   "id": "83d9d9e2",
   "metadata": {},
   "outputs": [
    {
     "data": {
      "text/plain": [
       "[<p class=\"account-menu_signin-text\">Already signed up? <button data=\"log-in-popup\" type=\"button\">Log in</button></p>,\n",
       " <p class=\"article-authors_authors clearfix\">\n",
       " <span>By </span>\n",
       " <a href=\"/kenya/john-ashihundu-1266\">John Ashihundu</a>\n",
       " </p>,\n",
       " <p class=\"article-authors_job\">Sports Writer, Nation Media Group</p>,\n",
       " <p data-articles-left-message=\"\"></p>,\n",
       " <p>This year’s Extreme Sports Limited tournaments will incorporate a capacity building initiative aimed at sensitizing all participating clubs on dangers of radicalization and how to ultimately protect local communities from violent extremism. </p>,\n",
       " <p>With their Nairobi-based affiliate partners, Excellence Integrity &amp; Growth Consultants (EIG), Metro Sports together with Altaawon Educational Centre (AEC), the 15-year-old professional sports company is planning to bring on board more companies to support their programmes. </p>,\n",
       " <p>While addressing journalists in Nairobi yesterday, Extreme Sports chief executive officer Hussein Mohammed called on more corporate bodies to support their initiative to protect young people from joining extremist groups like Al Shabaab. </p>,\n",
       " <p>“With the help of parents, family networks, social workers and teachers together with relevant stakeholders we shall offer counselling and mentoring services through workshops for young people at risk,” he added.</p>,\n",
       " <p> “Our target in initial phase is to disseminate this critical information to at least 2,500 of our players within Nairobi County. This initiative remains true to our original agenda when we incorporated Super 8 activities 15 years ago.”</p>,\n",
       " <p>\n",
       " <strong>We come to you.</strong>\n",
       " We are always looking for ways to improve our stories. Let us know what you liked and what we can improve on.\n",
       " </p>,\n",
       " <p class=\"teaser-image-large_paragraph text-block\">\n",
       " Last year, an audit by the EACC found that 191 public officers were operating foreign accounts.</p>,\n",
       " <p class=\"teaser-image-large_paragraph text-block\">\n",
       " Critics argue that the colossal amount will help unlock the ailing economy.</p>,\n",
       " <p class=\"teaser-image-large_paragraph text-block\">\n",
       " Court nullifies titles issued 21 years ago.</p>,\n",
       " <p>\n",
       " If you have an Ad-blocker please disable it and reload the page or try again later.\n",
       " </p>,\n",
       " <p class=\"page-footer_copyright col-1-1 medium-col-1-3\">\n",
       " <span class=\"page-footer_copyright-year\">Nation Media Group © 2021</span>\n",
       " </p>,\n",
       " <p>Welcome!</p>]"
      ]
     },
     "execution_count": 58,
     "metadata": {},
     "output_type": "execute_result"
    }
   ],
   "source": [
    "body"
   ]
  },
  {
   "cell_type": "code",
   "execution_count": 59,
   "id": "325189eb",
   "metadata": {},
   "outputs": [],
   "source": [
    "x = soup_article.find_all('p')"
   ]
  },
  {
   "cell_type": "code",
   "execution_count": 60,
   "id": "7780f411",
   "metadata": {},
   "outputs": [
    {
     "data": {
      "text/plain": [
       "16"
      ]
     },
     "execution_count": 60,
     "metadata": {},
     "output_type": "execute_result"
    }
   ],
   "source": [
    "len(x)"
   ]
  },
  {
   "cell_type": "code",
   "execution_count": 61,
   "id": "1d0a4f45",
   "metadata": {},
   "outputs": [
    {
     "data": {
      "text/plain": [
       "'Already signed up? Log in'"
      ]
     },
     "execution_count": 61,
     "metadata": {},
     "output_type": "execute_result"
    }
   ],
   "source": [
    "x[0].get_text()"
   ]
  },
  {
   "cell_type": "code",
   "execution_count": 62,
   "id": "74970d9a",
   "metadata": {},
   "outputs": [],
   "source": [
    "number_of_articles =5"
   ]
  },
  {
   "cell_type": "code",
   "execution_count": 68,
   "id": "1dddd042",
   "metadata": {},
   "outputs": [],
   "source": [
    "# Empty lists for content, links and titles\n",
    "news_contents = []\n",
    "list_links = []\n",
    "list_titles = []\n",
    "\n",
    "for n in np.arange(0, number_of_articles):\n",
    "        \n",
    "    # Getting the link of the article\n",
    "    link = radicalization_news[n]['href']\n",
    "    list_links.append(link)\n",
    "    \n",
    "    # Getting the title\n",
    "    title = radicalization_news[n].get_text()\n",
    "    list_titles.append(title)\n",
    "    \n",
    "    # Reading the content (it is divided in paragraphs)\n",
    "    article = requests.get(\"https://nation.africa/\" +link)\n",
    "    article_content = article.content\n",
    "    soup_article = BeautifulSoup(article_content, 'html5lib')\n",
    "    x = soup_article.find_all('p')\n",
    "    \n",
    "    # Unifying the paragraphs\n",
    "    list_paragraphs = []\n",
    "    for p in np.arange(0, len(x)):\n",
    "        paragraph = x[p].get_text()\n",
    "        list_paragraphs.append(paragraph)\n",
    "        final_article = \" \".join(list_paragraphs)\n",
    "        \n",
    "    news_contents.append(final_article)\n"
   ]
  },
  {
   "cell_type": "code",
   "execution_count": 69,
   "id": "cd0f24fb",
   "metadata": {},
   "outputs": [],
   "source": [
    "# df_features\n",
    "df_features = pd.DataFrame(\n",
    "     {'Article Content': news_contents \n",
    "    })\n",
    "\n",
    "# df_show_info\n",
    "df_show_info = pd.DataFrame(\n",
    "    {'Article Title': list_titles,\n",
    "     'Article Link': list_links})"
   ]
  },
  {
   "cell_type": "code",
   "execution_count": 65,
   "id": "69ea3998",
   "metadata": {},
   "outputs": [
    {
     "data": {
      "text/html": [
       "<div>\n",
       "<style scoped>\n",
       "    .dataframe tbody tr th:only-of-type {\n",
       "        vertical-align: middle;\n",
       "    }\n",
       "\n",
       "    .dataframe tbody tr th {\n",
       "        vertical-align: top;\n",
       "    }\n",
       "\n",
       "    .dataframe thead th {\n",
       "        text-align: right;\n",
       "    }\n",
       "</style>\n",
       "<table border=\"1\" class=\"dataframe\">\n",
       "  <thead>\n",
       "    <tr style=\"text-align: right;\">\n",
       "      <th></th>\n",
       "      <th>Article Content</th>\n",
       "    </tr>\n",
       "  </thead>\n",
       "  <tbody>\n",
       "    <tr>\n",
       "      <th>0</th>\n",
       "      <td>Already signed up? Log in \\nBy \\nJohn Ashihund...</td>\n",
       "    </tr>\n",
       "    <tr>\n",
       "      <th>1</th>\n",
       "      <td>Already signed up? Log in \\nBy \\nVIVIAN JEBET\\...</td>\n",
       "    </tr>\n",
       "    <tr>\n",
       "      <th>2</th>\n",
       "      <td>Already signed up? Log in Interior Cabinet Sec...</td>\n",
       "    </tr>\n",
       "    <tr>\n",
       "      <th>3</th>\n",
       "      <td>Already signed up? Log in Interior Principal S...</td>\n",
       "    </tr>\n",
       "    <tr>\n",
       "      <th>4</th>\n",
       "      <td>Already signed up? Log in Mombasa Archbishop M...</td>\n",
       "    </tr>\n",
       "  </tbody>\n",
       "</table>\n",
       "</div>"
      ],
      "text/plain": [
       "                                     Article Content\n",
       "0  Already signed up? Log in \\nBy \\nJohn Ashihund...\n",
       "1  Already signed up? Log in \\nBy \\nVIVIAN JEBET\\...\n",
       "2  Already signed up? Log in Interior Cabinet Sec...\n",
       "3  Already signed up? Log in Interior Principal S...\n",
       "4  Already signed up? Log in Mombasa Archbishop M..."
      ]
     },
     "execution_count": 65,
     "metadata": {},
     "output_type": "execute_result"
    }
   ],
   "source": [
    "df_features"
   ]
  },
  {
   "cell_type": "code",
   "execution_count": 66,
   "id": "5eeed3bd",
   "metadata": {},
   "outputs": [
    {
     "data": {
      "text/html": [
       "<div>\n",
       "<style scoped>\n",
       "    .dataframe tbody tr th:only-of-type {\n",
       "        vertical-align: middle;\n",
       "    }\n",
       "\n",
       "    .dataframe tbody tr th {\n",
       "        vertical-align: top;\n",
       "    }\n",
       "\n",
       "    .dataframe thead th {\n",
       "        text-align: right;\n",
       "    }\n",
       "</style>\n",
       "<table border=\"1\" class=\"dataframe\">\n",
       "  <thead>\n",
       "    <tr style=\"text-align: right;\">\n",
       "      <th></th>\n",
       "      <th>Article Title</th>\n",
       "      <th>Article Link</th>\n",
       "    </tr>\n",
       "  </thead>\n",
       "  <tbody>\n",
       "    <tr>\n",
       "      <th>0</th>\n",
       "      <td>\\n\\n\\n\\nExtreme Sports to use football in figh...</td>\n",
       "      <td>/kenya/sports/football/extreme-sports-to-use-f...</td>\n",
       "    </tr>\n",
       "    <tr>\n",
       "      <th>1</th>\n",
       "      <td>\\n\\n\\n\\nTwo arrested with bomb-making material...</td>\n",
       "      <td>/kenya/counties/isiolo/isiolo-police-arrest-te...</td>\n",
       "    </tr>\n",
       "    <tr>\n",
       "      <th>2</th>\n",
       "      <td>\\n\\n\\n\\nNew, young Muslim leaders speak out\\n\\...</td>\n",
       "      <td>/kenya/news/new-young-muslim-leaders-speak-out...</td>\n",
       "    </tr>\n",
       "    <tr>\n",
       "      <th>3</th>\n",
       "      <td>\\n\\n\\n\\nPS urges Isiolo residents to help figh...</td>\n",
       "      <td>/kenya/counties/isiolo/interior-ps-kibicho-urg...</td>\n",
       "    </tr>\n",
       "    <tr>\n",
       "      <th>4</th>\n",
       "      <td>\\n\\n\\n\\nStop senseless killings, urges Archbis...</td>\n",
       "      <td>/kenya/counties/kilifi/stop-senseless-killings...</td>\n",
       "    </tr>\n",
       "  </tbody>\n",
       "</table>\n",
       "</div>"
      ],
      "text/plain": [
       "                                       Article Title  \\\n",
       "0  \\n\\n\\n\\nExtreme Sports to use football in figh...   \n",
       "1  \\n\\n\\n\\nTwo arrested with bomb-making material...   \n",
       "2  \\n\\n\\n\\nNew, young Muslim leaders speak out\\n\\...   \n",
       "3  \\n\\n\\n\\nPS urges Isiolo residents to help figh...   \n",
       "4  \\n\\n\\n\\nStop senseless killings, urges Archbis...   \n",
       "\n",
       "                                        Article Link  \n",
       "0  /kenya/sports/football/extreme-sports-to-use-f...  \n",
       "1  /kenya/counties/isiolo/isiolo-police-arrest-te...  \n",
       "2  /kenya/news/new-young-muslim-leaders-speak-out...  \n",
       "3  /kenya/counties/isiolo/interior-ps-kibicho-urg...  \n",
       "4  /kenya/counties/kilifi/stop-senseless-killings...  "
      ]
     },
     "execution_count": 66,
     "metadata": {},
     "output_type": "execute_result"
    }
   ],
   "source": [
    "df_show_info"
   ]
  },
  {
   "cell_type": "code",
   "execution_count": 103,
   "id": "0ad28204",
   "metadata": {},
   "outputs": [],
   "source": [
    "#Converting the dataset in .csv file \n",
    "df = pd.DataFrame(news_contents, columns=['title'])\n",
    "\n",
    "# Exporting the DataFrame as csv\n",
    "df.to_csv('Nation-list.csv', index=False, sep=';')"
   ]
  },
  {
   "cell_type": "code",
   "execution_count": null,
   "id": "9fc8f7c6",
   "metadata": {},
   "outputs": [],
   "source": []
  },
  {
   "cell_type": "code",
   "execution_count": null,
   "id": "eec8ba3e",
   "metadata": {},
   "outputs": [],
   "source": []
  }
 ],
 "metadata": {
  "kernelspec": {
   "display_name": "Python 3",
   "language": "python",
   "name": "python3"
  },
  "language_info": {
   "codemirror_mode": {
    "name": "ipython",
    "version": 3
   },
   "file_extension": ".py",
   "mimetype": "text/x-python",
   "name": "python",
   "nbconvert_exporter": "python",
   "pygments_lexer": "ipython3",
   "version": "3.8.10"
  }
 },
 "nbformat": 4,
 "nbformat_minor": 5
}
